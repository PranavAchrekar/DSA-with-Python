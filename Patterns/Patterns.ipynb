{
 "cells": [
  {
   "cell_type": "markdown",
   "id": "9fdd0eee",
   "metadata": {},
   "source": [
    "# Patterns"
   ]
  },
  {
   "cell_type": "markdown",
   "id": "ec1f12d8",
   "metadata": {},
   "source": [
    "#### Rules while solving pattern problems\n",
    "* Find number of rows\n",
    "* Write down for each row (what's happening/logic/observe pattern)\n",
    "* Print the pattern\n"
   ]
  },
  {
   "cell_type": "code",
   "execution_count": 16,
   "id": "55cb7a03",
   "metadata": {},
   "outputs": [
    {
     "name": "stdout",
     "output_type": "stream",
     "text": [
      "Outer loop: 0\n",
      "Inner loop 0\n",
      "Inner loop 1\n",
      "Inner loop 2\n",
      "\n",
      "Outer loop: 1\n",
      "Inner loop 0\n",
      "Inner loop 1\n",
      "Inner loop 2\n",
      "\n",
      "Outer loop: 2\n",
      "Inner loop 0\n",
      "Inner loop 1\n",
      "Inner loop 2\n",
      "\n"
     ]
    }
   ],
   "source": [
    "for i in range(3):\n",
    "    print(\"Outer loop:\", i) # Outer loop indicates no of rows\n",
    "    for j in range(3):\n",
    "        print(\"Inner loop\", j) # Inner loop indicates what's happening inside each rows\n",
    "    print()"
   ]
  },
  {
   "cell_type": "markdown",
   "id": "c22d808f",
   "metadata": {},
   "source": [
    "# 1.Square Pattern\n",
    "       * * * * \n",
    "       * * * * \n",
    "       * * * * \n",
    "       * * * * \n",
    "- Lets print Square pattern, so as per rules\n",
    "- No of rows (outer loop): 4\n",
    "- logic: 4 stars to be printed, & after printing in each row go to next line\n"
   ]
  },
  {
   "cell_type": "code",
   "execution_count": 17,
   "id": "e8d63043",
   "metadata": {},
   "outputs": [
    {
     "name": "stdout",
     "output_type": "stream",
     "text": [
      "* * * * \n",
      "* * * * \n",
      "* * * * \n",
      "* * * * \n"
     ]
    }
   ],
   "source": [
    "for i in range(4): # outer loop -> rows\n",
    "    # for each row print 4 stars\n",
    "    for j in range(4): # inner loop -> print 4 stars\n",
    "        print(\"*\", end=' ')\n",
    "    print() # to go to next line after printing stars in a row"
   ]
  },
  {
   "cell_type": "markdown",
   "id": "562ed07e",
   "metadata": {},
   "source": [
    "# 2. Rectangle Pattern"
   ]
  },
  {
   "cell_type": "code",
   "execution_count": 18,
   "id": "fb9a383b",
   "metadata": {},
   "outputs": [
    {
     "name": "stdout",
     "output_type": "stream",
     "text": [
      "* * * * * \n",
      "* * * * * \n",
      "* * * * * \n"
     ]
    }
   ],
   "source": [
    "for i in range(3): # outer loop\n",
    "    # for each row print 3 stars\n",
    "    # inner loop -> print 5 stars\n",
    "    for j in range(5):\n",
    "        print(\"*\", end=' ')\n",
    "    print()\n"
   ]
  },
  {
   "cell_type": "markdown",
   "id": "4709e977",
   "metadata": {},
   "source": [
    "# 3. Hollow Square"
   ]
  },
  {
   "cell_type": "markdown",
   "id": "f7ac8807",
   "metadata": {},
   "source": [
    "        * * * * * \n",
    "        *       * \n",
    "        *       * \n",
    "        *       * \n",
    "        * * * * * \n",
    "\n",
    "1. Outer loop -> No of rows r0, r1, r2, r3, r4 -> 5 rows\n",
    "2. Create logic \n",
    "-  Inner loop has\n",
    "- r0 has 5 stars\n",
    "- r1 has 1 star, 3 space, 1 star\n",
    "- r2 has 1 star, 3 space, 1 star\n",
    "- r3 has 5 stars\n",
    "3. Print pattern\n",
    "\n"
   ]
  },
  {
   "cell_type": "code",
   "execution_count": 19,
   "id": "11934aa9",
   "metadata": {},
   "outputs": [
    {
     "name": "stdout",
     "output_type": "stream",
     "text": [
      "* * * * * \n",
      "*       * \n",
      "*       * \n",
      "*       * \n",
      "* * * * * \n"
     ]
    }
   ],
   "source": [
    "for row in range(5):\n",
    "    for col in range(5):\n",
    "        if row== 0 or row ==4:\n",
    "            print(\"*\", end=' ')\n",
    "        else:\n",
    "            if col == 0 or col == 4:\n",
    "                print(\"*\", end= ' ')\n",
    "            else:\n",
    "                print(\" \", end=' ')\n",
    "    print()"
   ]
  },
  {
   "cell_type": "markdown",
   "id": "e47c6779",
   "metadata": {},
   "source": [
    "# Hollow Rectangle\n",
    "#### With input rows =10, columns = 7"
   ]
  },
  {
   "cell_type": "code",
   "execution_count": 20,
   "id": "d757335e",
   "metadata": {},
   "outputs": [
    {
     "name": "stdout",
     "output_type": "stream",
     "text": [
      "* * * * * * * \n",
      "*           * \n",
      "*           * \n",
      "*           * \n",
      "*           * \n",
      "*           * \n",
      "*           * \n",
      "*           * \n",
      "*           * \n",
      "* * * * * * * \n"
     ]
    }
   ],
   "source": [
    "ROWS = 10\n",
    "COLS = 7\n",
    "for row in range(ROWS):\n",
    "    for col in range(COLS):\n",
    "        if row == 0 or row == ROWS-1:\n",
    "            print(\"*\", end=' ')\n",
    "        else:\n",
    "            if col == 0 or col == COLS-1:\n",
    "                print(\"*\", end=' ')\n",
    "            else:\n",
    "                print(\" \", end=' ')\n",
    "    print()"
   ]
  },
  {
   "cell_type": "markdown",
   "id": "61ff8a99",
   "metadata": {},
   "source": [
    "# 4. Half Pyramid\n",
    "        * \n",
    "        * * \n",
    "        * * * \n",
    "        * * * * \n",
    "- Outer loop -> 4 rows\n",
    "- logic -> inner loop has:\n",
    "- r0: 1 star\n",
    "- r1: 2 star\n",
    "- r2: 3 star\n",
    "- r3: 4 star\n",
    "- So every col will have row+1 stars, then print pattern"
   ]
  },
  {
   "cell_type": "code",
   "execution_count": null,
   "id": "226b01e0",
   "metadata": {},
   "outputs": [
    {
     "name": "stdout",
     "output_type": "stream",
     "text": [
      "* \n",
      "* * \n",
      "* * * \n",
      "* * * * \n"
     ]
    }
   ],
   "source": [
    "n=4\n",
    "for row in range(n):\n",
    "    for col in range(row+1):\n",
    "        print(\"*\", end=' ')\n",
    "    print()\n"
   ]
  },
  {
   "cell_type": "markdown",
   "id": "27d35bf2",
   "metadata": {},
   "source": [
    "# 5. Inverted Half Pyramid\n",
    "        * * * * \n",
    "        * * * \n",
    "        * * \n",
    "        * \n",
    "- outer loop -> 4 rows\n",
    "- logic -> inner loop has:\n",
    "- r0: 4 star\n",
    "- r1: 3 star\n",
    "- r2: 2 star\n",
    "- r3: 1 star\n",
    "- So every col will have n-row stars, then print pattern"
   ]
  },
  {
   "cell_type": "code",
   "execution_count": 22,
   "id": "14f69572",
   "metadata": {},
   "outputs": [
    {
     "name": "stdout",
     "output_type": "stream",
     "text": [
      "* * * * \n",
      "* * * \n",
      "* * \n",
      "* \n"
     ]
    }
   ],
   "source": [
    "n = 4\n",
    "for row in range(4):\n",
    "    for col in range(n-row):\n",
    "        print(\"*\", end=' ')\n",
    "    print()"
   ]
  },
  {
   "cell_type": "markdown",
   "id": "7134d77e",
   "metadata": {},
   "source": [
    "# 6. Numeric Half Pyramid\n",
    "        1 \n",
    "        1 2 \n",
    "        1 2 3 \n",
    "        1 2 3 4 \n",
    "\n",
    "- outer loop -> 4 rows\n",
    "- logic -> inner loop has:\n",
    "- r0: 1\n",
    "- r1: 1 2\n",
    "- r2: 1 2 3\n",
    "- r3: 1 2 3 4\n",
    "- So every col wil have row+1 symbols(numerics)\n",
    "- So c0 will have all 1's, c2 will have all 2's, c3 will have all 3's ...\n",
    "- That is c0=c0+1 = 0+1 = 1, c1= 1+1 =2, c2= 2+1=3... (Instead of star we will print numerics)\n",
    "- Print the pattern"
   ]
  },
  {
   "cell_type": "code",
   "execution_count": 23,
   "id": "aaf03c78",
   "metadata": {},
   "outputs": [
    {
     "name": "stdout",
     "output_type": "stream",
     "text": [
      "1 \n",
      "1 2 \n",
      "1 2 3 \n",
      "1 2 3 4 \n"
     ]
    }
   ],
   "source": [
    "n = 4\n",
    "for row in range(n):\n",
    "    for col in range(row+1):\n",
    "        print(col+1, end=' ')\n",
    "    print()"
   ]
  },
  {
   "cell_type": "markdown",
   "id": "1bbf84c6",
   "metadata": {},
   "source": [
    "# 7. Inverted Numeric Half Pyramid\n"
   ]
  },
  {
   "cell_type": "code",
   "execution_count": 24,
   "id": "8716b0f5",
   "metadata": {},
   "outputs": [
    {
     "name": "stdout",
     "output_type": "stream",
     "text": [
      "1 2 3 4 5 \n",
      "1 2 3 4 \n",
      "1 2 3 \n",
      "1 2 \n",
      "1 \n"
     ]
    }
   ],
   "source": [
    "n = 5\n",
    "for row in range(n):\n",
    "    for col in range(n-row):\n",
    "        print(col+1, end=' ')\n",
    "    print()"
   ]
  },
  {
   "cell_type": "markdown",
   "id": "24604cdb",
   "metadata": {},
   "source": [
    "# 8. Full Pyramid\n",
    "\n",
    "        ----* \n",
    "        ---* * \n",
    "        --* * * \n",
    "        -* * * * \n",
    "        * * * * *     \n",
    "\n",
    "- NOTE: Dash denotes spaces\n",
    "-----------------------------------------------------------\n",
    "- Outer loop-> n =5 rows\n",
    "- logic -> inner loop has\n",
    "- r0: 4 space, 1 star\n",
    "- r1: 3 space, 2 star\n",
    "- r2: 2 space, 3 star\n",
    "- r3: 1 space, 4 star\n",
    "- r4: 0 space, 5 star\n",
    "------------------------------------------------------------------\n",
    "- Now create logic for printing stars\n",
    "- To get stars row-wise we will add 1 to each rows i.e row+1\n",
    "-----------------------------------------------------------------\n",
    "- To get space row-wise: \n",
    "- Lets try to create logic\n",
    "- n-r0-1 -> 5-0-1 = 4 space\n",
    "- n-r1-1 -> 5-1-1 = 3 space\n",
    "- n-r2-1 -> 5-2-1 = 2 space and so on\n",
    "- So above logic matches with spaces then print pattern\n"
   ]
  },
  {
   "cell_type": "code",
   "execution_count": 32,
   "id": "ae2869f5",
   "metadata": {},
   "outputs": [
    {
     "name": "stdout",
     "output_type": "stream",
     "text": [
      "    * \n",
      "   * * \n",
      "  * * * \n",
      " * * * * \n",
      "* * * * * \n"
     ]
    }
   ],
   "source": [
    "n = 5\n",
    "# outer loop\n",
    "for row in range(n):\n",
    "    # Inner loop\n",
    "    # To print space\n",
    "    for col in range(n-row-1):\n",
    "        print(\"\", end=' ')\n",
    "    # To print stars\n",
    "    for col in range(row+1):\n",
    "        print(\"*\", end=' ')\n",
    "    print()"
   ]
  },
  {
   "cell_type": "markdown",
   "id": "14c590ec",
   "metadata": {},
   "source": [
    "# 9. Inverted Full Pyramid\n",
    "\n",
    "        * * * * \n",
    "        -* * * \n",
    "        --* * \n",
    "        ---* \n",
    "\n",
    "- Outer loop-> n =4 rows\n",
    "- logic -> inner loop has\n",
    "- r0 - 0 sp, 4 star\n",
    "- r1 - 1 sp, 3 star\n",
    "- r2 - 2 sp, 2 star\n",
    "- r3 - 3 sp, 1 star\n",
    "-----------------------------------------------------------------\n",
    " Now create logic for printing stars\n",
    "- To get stars row-wise we will do -> n- row\n",
    "-----------------------------------------------------------------\n",
    "- To get space row-wise: \n",
    "- For r0 its 0 space\n",
    "- For r1 its 1 space\n",
    "- For r2 its 2 space & so on\n",
    "- Hence it remains same, so it will be row itself\n",
    "- Print the pattern\n",
    "\n"
   ]
  },
  {
   "cell_type": "code",
   "execution_count": 39,
   "id": "394d01d3",
   "metadata": {},
   "outputs": [
    {
     "name": "stdout",
     "output_type": "stream",
     "text": [
      "* * * * \n",
      " * * * \n",
      "  * * \n",
      "   * \n"
     ]
    }
   ],
   "source": [
    "n = 4\n",
    "for row in range(n):\n",
    "    # To print spaces\n",
    "    for col in range(row):\n",
    "        print(\"\", end=' ')\n",
    "    # To print stars\n",
    "    for col in range(n-row):\n",
    "        print(\"*\", end=' ')\n",
    "    print()\n",
    "    "
   ]
  },
  {
   "cell_type": "markdown",
   "id": "d17def3f",
   "metadata": {},
   "source": [
    "# 10. Diamond\n"
   ]
  },
  {
   "cell_type": "code",
   "execution_count": null,
   "id": "189884bd",
   "metadata": {},
   "outputs": [
    {
     "name": "stdout",
     "output_type": "stream",
     "text": [
      "   * \n",
      "  * * \n",
      " * * * \n",
      "* * * * \n",
      "* * * * \n",
      " * * * \n",
      "  * * \n",
      "   * \n"
     ]
    }
   ],
   "source": [
    "n = 8\n",
    "n = int(n/2) # n/2 is done because 4 rows of full pyramid + 4 rows of inverted full pyramid\n",
    "\n",
    "# Full Pyramid\n",
    "for row in range(n):\n",
    "    # Inner loop\n",
    "    # To print space\n",
    "    for col in range(n-row-1):\n",
    "        print(\"\", end=' ')\n",
    "    # To print stars\n",
    "    for col in range(row+1):\n",
    "        print(\"*\", end=' ')\n",
    "    print()\n",
    "\n",
    "# Inverted Full Pyramid\n",
    "for row in range(n):\n",
    "    # To print spaces\n",
    "    for col in range(row):\n",
    "        print(\"\", end=' ')\n",
    "    # To print stars\n",
    "    for col in range(n-row):\n",
    "        print(\"*\", end=' ')\n",
    "    print()\n"
   ]
  },
  {
   "cell_type": "markdown",
   "id": "8defe6ce",
   "metadata": {},
   "source": [
    "# 11. Inverted V\n",
    "           * \n",
    "          * * \n",
    "         *   * \n",
    "        *     * \n",
    "\n",
    "- Lets consider this pattern like full pyramid\n",
    "- Print full pyramid\n",
    "- Now * is at the start and at the end of cols\n",
    "- So if there are (row+1) cols then end of the col will be row+1-1 (since indexing starts from 0)\n",
    "- So for start row = 0 and for end row = row+1-1 -> print *\n",
    "- And for remaining print space\n"
   ]
  },
  {
   "cell_type": "code",
   "execution_count": 2,
   "id": "c2ee934f",
   "metadata": {},
   "outputs": [
    {
     "name": "stdout",
     "output_type": "stream",
     "text": [
      "   * \n",
      "  * * \n",
      " *   * \n",
      "*     * \n"
     ]
    }
   ],
   "source": [
    "n = 4\n",
    "for row in range(n):\n",
    "    for col in range(n-row-1):\n",
    "        print(\"\", end=' ')\n",
    "    for col in range(row+1):\n",
    "        # Now * is at start and at the end cols of the rows\n",
    "        # Since indexing starts from zero, & now if there are K cols, then total no of cols will be k-1\n",
    "        # Hence now there are K= row+1 cols, then total no of cols will be row+1-1\n",
    "        if (col == 0 or col == row+1-1):\n",
    "            print(\"*\", end=' ')\n",
    "        else:\n",
    "            print(' ', end=' ')\n",
    "    print()\n"
   ]
  },
  {
   "cell_type": "markdown",
   "id": "62bba3a5",
   "metadata": {},
   "source": [
    "# 12. Hollow Diamond\n",
    "\n",
    "        * * * * * * * * * * \n",
    "        * * * * - - * * * * \n",
    "        * * * - - - - * * * \n",
    "        * * - - - - - - * * \n",
    "        * - - - - - - - - * \n",
    "        * - - - - - - - - * \n",
    "        * * - - - - - - * * \n",
    "        * * * - - - - * * * \n",
    "        * * * * - - * * * * \n",
    "        * * * * * * * * * * \n",
    "\n",
    "- Note: Dash denotes spaces\n",
    "------------------------------------------------------\n",
    "-  Lets consider this hollow diamond in 2 blocks\n",
    "-  Block 1\n",
    "\n",
    "        * * * * * * * * * * \n",
    "        * * * * - - * * * * \n",
    "        * * * - - - - * * * \n",
    "        * * - - - - - - * * \n",
    "        * - - - - - - - - * \n",
    "- So block 1 has one star pattern, 2 spaces patterns, 1 star pattern\n",
    "- So create logic for block 1 as we did for earlier patterns\n",
    "-------------------------------------------------------------\n",
    "- Block 2\n",
    "\n",
    "        *                 * \n",
    "        * *             * * \n",
    "        * * *         * * * \n",
    "        * * * *     * * * * \n",
    "        * * * * * * * * * * \n",
    "- Similarly create logic for block2 as we did for block 1\n"
   ]
  },
  {
   "cell_type": "code",
   "execution_count": 2,
   "id": "91a0c253",
   "metadata": {},
   "outputs": [
    {
     "name": "stdout",
     "output_type": "stream",
     "text": [
      "* * * * * * * * * * \n",
      "* * * *     * * * * \n",
      "* * *         * * * \n",
      "* *             * * \n",
      "*                 * \n",
      "*                 * \n",
      "* *             * * \n",
      "* * *         * * * \n",
      "* * * *     * * * * \n",
      "* * * * * * * * * * \n"
     ]
    }
   ],
   "source": [
    "n = 10\n",
    "n = int(n/2)\n",
    "# Part 1 of block pattern\n",
    "for row in range(n):\n",
    "    # To print stars\n",
    "    for col in range(n-row):\n",
    "        print(\"*\", end=' ')\n",
    "    # To print spaces\n",
    "    for col in range(row):\n",
    "        print(' ', end=' ')\n",
    "    for col in range(row):\n",
    "        print(' ', end=' ')\n",
    "    # To print stars\n",
    "    for col in range(n-row):\n",
    "        print('*', end=' ')\n",
    "    print()\n",
    "# Part 2 of block pattern\n",
    "for row in range(n):\n",
    "    # To print stars\n",
    "    for col in range(row+1):\n",
    "        print('*', end=' ')\n",
    "    # To print spaces\n",
    "    for col in range(2* (n-row-1)):  # Used now single for loop for spaces by doubling the range\n",
    "        print(' ', end=' ')\n",
    "    # To print stars\n",
    "    for col in range(row+1):\n",
    "        print('*', end=' ')\n",
    "    print()"
   ]
  },
  {
   "cell_type": "markdown",
   "id": "cceb9b37",
   "metadata": {},
   "source": [
    "# 13. Numeric & Star Pattern\n",
    "\n",
    "    1 * 3 * 5\n",
    "    1 * 3 *\n",
    "    1 * 3 \n",
    "    1 *\n",
    "    1"
   ]
  },
  {
   "cell_type": "code",
   "execution_count": 3,
   "id": "9afff2b1",
   "metadata": {},
   "outputs": [
    {
     "name": "stdout",
     "output_type": "stream",
     "text": [
      "1 * 3 * 5 \n",
      "1 * 3 * \n",
      "1 * 3 \n",
      "1 * \n",
      "1 \n"
     ]
    }
   ],
   "source": [
    "n = 5\n",
    "for row in range(n):\n",
    "    for col in range(n-row):\n",
    "        if col%2 == 0: # For even cols , add 1 to col\n",
    "            print(col+1, end=' ')\n",
    "        else:\n",
    "            print('*', end=' ')\n",
    "    print()"
   ]
  },
  {
   "cell_type": "markdown",
   "id": "990e101b",
   "metadata": {},
   "source": [
    "# 14. Symmetric Half Diamond 1"
   ]
  },
  {
   "cell_type": "code",
   "execution_count": 4,
   "id": "e258a28f",
   "metadata": {},
   "outputs": [
    {
     "name": "stdout",
     "output_type": "stream",
     "text": [
      "* \n",
      "* * \n",
      "* * * \n",
      "* * * * \n",
      "* * * * * \n",
      "* * * * \n",
      "* * * \n",
      "* * \n",
      "* \n"
     ]
    }
   ],
   "source": [
    "n = 5\n",
    "# This covers pattern block of first 5 rows\n",
    "for row in range(n):\n",
    "    for col in range(row+1):\n",
    "        print('*', end=' ')\n",
    "    print()\n",
    "# This covers pattern block of 6-9 rows\n",
    "for row in range(n-1):\n",
    "    for col in range(n-row-1):\n",
    "        print('*', end=' ')\n",
    "    print()\n"
   ]
  },
  {
   "cell_type": "code",
   "execution_count": 6,
   "id": "89ff02ba",
   "metadata": {},
   "outputs": [
    {
     "name": "stdout",
     "output_type": "stream",
     "text": [
      "* \n",
      "* * \n",
      "* * * \n",
      "* * * * \n",
      "* * * * * \n",
      "* * * * \n",
      "* * * \n",
      "* * \n",
      "* \n"
     ]
    }
   ],
   "source": [
    "# Total rows in outer loop are 9\n",
    "# Hence 2*n-1 is used to get the range\n",
    "\n",
    "n = 5\n",
    "for row in range(2*n-1):\n",
    "    if row < n: # From row 0 to 4 one block of star will get printed\n",
    "        for col in range(row+1):\n",
    "            print('*', end=' ')\n",
    "        print()\n",
    "    else: # From row 5 to 9 other/remaining block of star gets printed\n",
    "        for col in range(2*n-row-1):\n",
    "            print('*', end=' ')\n",
    "        print()"
   ]
  },
  {
   "cell_type": "markdown",
   "id": "841296f8",
   "metadata": {},
   "source": [
    "# 15. Symmetric Half Diamond 2\n",
    "\n",
    "        - - - - - * \n",
    "        - - - - * * \n",
    "        - - - * * * \n",
    "        - - * * * * \n",
    "        - * * * * * \n",
    "        - - * * * * \n",
    "        - - - * * * \n",
    "        - - - - * * \n",
    "        - - - - - * "
   ]
  },
  {
   "cell_type": "code",
   "execution_count": null,
   "id": "ec4799a8",
   "metadata": {},
   "outputs": [
    {
     "name": "stdout",
     "output_type": "stream",
     "text": [
      "- - - - - * \n",
      "- - - - * * \n",
      "- - - * * * \n",
      "- - * * * * \n",
      "- * * * * * \n",
      "- - * * * * \n",
      "- - - * * * \n",
      "- - - - * * \n",
      "- - - - - * \n"
     ]
    }
   ],
   "source": [
    "n = 5\n",
    "for row in range(2*n-1):\n",
    "    if row < n:\n",
    "        # To print spaces\n",
    "        for col in range(n-row):\n",
    "            print('-', end=' ')\n",
    "        # To print star\n",
    "        for col in range(row+1):\n",
    "            print('*', end=' ')\n",
    "        print()\n",
    "    else:\n",
    "        # To print spaces\n",
    "        # 5th row - 2 space\n",
    "        # 6th row - 3 space\n",
    "        # 7th row - 4 space\n",
    "        # 8th row - 5 space\n",
    "        # 9th row - 6 space\n",
    "        for col in range(row-n+2):\n",
    "            print('-', end=' ')\n",
    "        # To print stars\n",
    "        # 5th row - 4 star\n",
    "        # 6th row - 3 star\n",
    "        # 7th row - 2 star\n",
    "        # 8th row - 1 star\n",
    "        for col in range(2*n-row-1):\n",
    "            print('*', end=' ')\n",
    "        print()"
   ]
  },
  {
   "cell_type": "markdown",
   "id": "f178e8f2",
   "metadata": {},
   "source": [
    "# 16. Butterfly\n",
    "\n",
    "        *                 * \n",
    "        * *             * * \n",
    "        * * *         * * * \n",
    "        * * * *     * * * * \n",
    "        * * * * * * * * * * \n",
    "        * * * *     * * * * \n",
    "        * * *         * * * \n",
    "        * *             * * \n",
    "        *                 * "
   ]
  },
  {
   "cell_type": "code",
   "execution_count": null,
   "id": "033b67ef",
   "metadata": {},
   "outputs": [
    {
     "name": "stdout",
     "output_type": "stream",
     "text": [
      "* - - - - - - - - * \n",
      "* * - - - - - - * * \n",
      "* * * - - - - * * * \n",
      "* * * * - - * * * * \n",
      "* * * * * * * * * * \n",
      "* * * * - - * * * * \n",
      "* * * - - - - * * * \n",
      "* * - - - - - - * * \n",
      "* - - - - - - - - * \n"
     ]
    }
   ],
   "source": [
    "# In this Symmetric Half Diamond 1 & Symmetric Half Diamond 2 codes are combined\n",
    "\n",
    "# Total rows in outer loop are 9\n",
    "# Hence 2*n-1 is used to get the range\n",
    "\n",
    "n = 5\n",
    "for row in range(2*n-1):\n",
    "    if row < n: # From row 0 to 4 one block of star will get printed\n",
    "        for col in range(row+1):\n",
    "            print('*', end=' ')\n",
    "        \n",
    "        # To print spaces\n",
    "        for col in range(n-row-1): # Minus 1 added\n",
    "            print('-', end=' ')\n",
    "        \n",
    "        # To print spaces\n",
    "        for col in range(n-row-1): # Minus 1 added\n",
    "            print('-', end=' ')\n",
    "\n",
    "        # To print star\n",
    "        for col in range(row+1):\n",
    "            print('*', end=' ')\n",
    "\n",
    "\n",
    "        print()\n",
    "        \n",
    "\n",
    "    else: # From row 5 to 9 other/remaining block of star gets printed\n",
    "        for col in range(2*n-row-1):\n",
    "            print('*', end=' ')\n",
    "        \n",
    "        # To print spaces\n",
    "        for col in range(row-n+2-1): # Minus 1 added\n",
    "            print('-', end=' ')\n",
    "\n",
    "        # To print spaces\n",
    "        for col in range(row-n+2-1): # Minus 1 added\n",
    "            print('-', end=' ')\n",
    "\n",
    "        # To print star\n",
    "        for col in range(2*n-row-1):\n",
    "            print('*', end=' ')\n",
    "        \n",
    "        print()\n",
    "\n"
   ]
  },
  {
   "cell_type": "code",
   "execution_count": 41,
   "id": "a476776d",
   "metadata": {},
   "outputs": [
    {
     "name": "stdout",
     "output_type": "stream",
     "text": [
      "*                 * \n",
      "* *             * * \n",
      "* * *         * * * \n",
      "* * * *     * * * * \n",
      "* * * * * * * * * * \n",
      "* * * *     * * * * \n",
      "* * *         * * * \n",
      "* *             * * \n",
      "*                 * \n"
     ]
    }
   ],
   "source": [
    "# In this Symmetric Half Diamond 1 & Symmetric Half Diamond 2 codes are combined\n",
    "\n",
    "# Total rows in outer loop are 9\n",
    "# Hence 2*n-1 is used to get the range\n",
    "\n",
    "n = 5\n",
    "for row in range(2*n-1):\n",
    "    if row < n: # From row 0 to 4 one block of star will get printed\n",
    "        for col in range(row+1):\n",
    "            print('*', end=' ')\n",
    "        \n",
    "        # To print spaces\n",
    "        for col in range(n-row-1): # Minus 1 added\n",
    "            print(' ', end=' ')\n",
    "        \n",
    "        # To print spaces\n",
    "        for col in range(n-row-1): # Minus 1 added\n",
    "            print(' ', end=' ')\n",
    "\n",
    "        # To print star\n",
    "        for col in range(row+1):\n",
    "            print('*', end=' ')\n",
    "\n",
    "\n",
    "        print()\n",
    "        \n",
    "\n",
    "    else: # From row 5 to 9 other/remaining block of star gets printed\n",
    "        for col in range(2*n-row-1):\n",
    "            print('*', end=' ')\n",
    "        \n",
    "        # To print spaces\n",
    "        for col in range(row-n+2-1): # Minus 1 added\n",
    "            print(' ', end=' ')\n",
    "\n",
    "        # To print spaces\n",
    "        for col in range(row-n+2-1): # Minus 1 added\n",
    "            print(' ', end=' ')\n",
    "\n",
    "        # To print star\n",
    "        for col in range(2*n-row-1):\n",
    "            print('*', end=' ')\n",
    "        \n",
    "        print()\n",
    "\n"
   ]
  },
  {
   "cell_type": "markdown",
   "id": "63167023",
   "metadata": {},
   "source": [
    "# 17 Half Pyramid Numbers\n",
    "\n",
    "    1\n",
    "    1 2\n",
    "    1 2 3\n",
    "    1 2 3 4\n",
    "    1 2 3 4 5"
   ]
  },
  {
   "cell_type": "code",
   "execution_count": 42,
   "id": "4c746995",
   "metadata": {},
   "outputs": [
    {
     "name": "stdout",
     "output_type": "stream",
     "text": [
      "1 \n",
      "1 2 \n",
      "1 2 3 \n",
      "1 2 3 4 \n",
      "1 2 3 4 5 \n"
     ]
    }
   ],
   "source": [
    "n=5\n",
    "for row in range(n):\n",
    "    for col in range(row+1):\n",
    "        print(col+1, end=' ')\n",
    "    print()"
   ]
  },
  {
   "cell_type": "markdown",
   "id": "e0ee065e",
   "metadata": {},
   "source": [
    "# 18. Half Pyramid Characters\n",
    "\n",
    "    A\n",
    "    A B\n",
    "    A B C\n",
    "    A B C D\n",
    "    A B C D E"
   ]
  },
  {
   "cell_type": "code",
   "execution_count": null,
   "id": "e73cc4c3",
   "metadata": {},
   "outputs": [
    {
     "name": "stdout",
     "output_type": "stream",
     "text": [
      "A \n",
      "A B \n",
      "A B C \n",
      "A B C D \n",
      "A B C D E \n"
     ]
    }
   ],
   "source": [
    "n=5\n",
    "char = 'A'\n",
    "for row in range(n):\n",
    "    for col in range(row+1):\n",
    "        # ord gives ASCII value of A which is 65\n",
    "        # So for col 0-> chr(0+65)= chr(65) -> A\n",
    "        # And for col 1 -> char(1+65) = chr(66) -> B\n",
    "        print(chr(col + ord(char)) , end=' ')\n",
    "    print()\n"
   ]
  },
  {
   "cell_type": "markdown",
   "id": "38180a95",
   "metadata": {},
   "source": [
    "# 19. Numbers Triangle\n",
    "\n",
    "                1\n",
    "            1   2   1\n",
    "        1   2   3   2   1\n",
    "    1   2   3   4   3   2   1"
   ]
  },
  {
   "cell_type": "code",
   "execution_count": 91,
   "id": "e0fe0c64",
   "metadata": {},
   "outputs": [
    {
     "name": "stdout",
     "output_type": "stream",
     "text": [
      "        1 \n",
      "      1 2 1 \n",
      "    1 2 3 2 1 \n",
      "  1 2 3 4 3 2 1 \n"
     ]
    }
   ],
   "source": [
    "n = 4\n",
    "for row in range(n):\n",
    "    if row < n:\n",
    "        # To print spaces\n",
    "        for col in range(n-row):\n",
    "            print(\" \", end=' ')\n",
    "        # To print stars\n",
    "        for col in range(row+1):\n",
    "            print(col + 1, end=' ')\n",
    "        # To print stars\n",
    "        # 0-0\n",
    "        # 1-1\n",
    "        # 2-2 1\n",
    "        # 3-3 2 1\n",
    "        for col in reversed(range(row)):\n",
    "            print(col+1, end=' ')\n",
    "        \n",
    "        print()\n"
   ]
  }
 ],
 "metadata": {
  "kernelspec": {
   "display_name": "Python 3",
   "language": "python",
   "name": "python3"
  },
  "language_info": {
   "codemirror_mode": {
    "name": "ipython",
    "version": 3
   },
   "file_extension": ".py",
   "mimetype": "text/x-python",
   "name": "python",
   "nbconvert_exporter": "python",
   "pygments_lexer": "ipython3",
   "version": "3.12.6"
  }
 },
 "nbformat": 4,
 "nbformat_minor": 5
}

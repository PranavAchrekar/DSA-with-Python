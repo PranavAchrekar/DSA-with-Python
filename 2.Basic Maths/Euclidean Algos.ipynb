{
 "cells": [
  {
   "cell_type": "markdown",
   "id": "8608efdf",
   "metadata": {},
   "source": [
    "# 1. Count Number of Digits"
   ]
  },
  {
   "cell_type": "code",
   "execution_count": null,
   "id": "7e894bed",
   "metadata": {},
   "outputs": [
    {
     "data": {
      "text/plain": [
       "[9, 8, 7, 7]"
      ]
     },
     "execution_count": 2,
     "metadata": {},
     "output_type": "execute_result"
    }
   ],
   "source": [
    "# Extraction of digits\n",
    "\n",
    "def count(N):\n",
    "    digits = []\n",
    "    while N > 0:\n",
    "        last_digit = N % 10\n",
    "        # 7789 % 10 = 9\n",
    "        # 778 % 10 = 8\n",
    "        # 77 % 10 = 7\n",
    "        # 7 % 10 = 0\n",
    "        if last_digit == 0:\n",
    "            break\n",
    "        digits.append(int(last_digit))\n",
    "        \n",
    "        N = N // 10 # Use integer division\n",
    "    return digits\n",
    "\n",
    "count(7789)"
   ]
  },
  {
   "cell_type": "code",
   "execution_count": null,
   "id": "2339bd80",
   "metadata": {},
   "outputs": [
    {
     "data": {
      "text/plain": [
       "4"
      ]
     },
     "execution_count": 3,
     "metadata": {},
     "output_type": "execute_result"
    }
   ],
   "source": [
    "# To get the count of digits for a number\n",
    "def count(N):\n",
    "    cnt = 0\n",
    "    while N > 0:\n",
    "        # last_digit = N % 10\n",
    "        cnt = cnt + 1\n",
    "        N=N // 10\n",
    "    return cnt\n",
    "count(7789)"
   ]
  },
  {
   "cell_type": "code",
   "execution_count": null,
   "id": "42a4da64",
   "metadata": {},
   "outputs": [
    {
     "data": {
      "text/plain": [
       "4"
      ]
     },
     "execution_count": 6,
     "metadata": {},
     "output_type": "execute_result"
    }
   ],
   "source": [
    "# Using log function to get count of digits for a number\n",
    "import math\n",
    "def count(N):\n",
    "    cnt = math.log10(N) + 1\n",
    "    return int(cnt) \n",
    "count(7789)"
   ]
  },
  {
   "cell_type": "markdown",
   "id": "03f6562f",
   "metadata": {},
   "source": [
    "# 2. Reverse Number"
   ]
  },
  {
   "cell_type": "code",
   "execution_count": null,
   "id": "4809d381",
   "metadata": {},
   "outputs": [
    {
     "name": "stdout",
     "output_type": "stream",
     "text": [
      "9877\n",
      "543\n"
     ]
    }
   ],
   "source": [
    "def reverse(N):\n",
    "    rev = 0\n",
    "    while N > 0:\n",
    "        last_digit = N % 10\n",
    "        # 7789 % 10 = 9\n",
    "        # 778 % 10 = 8\n",
    "        # 77 % 10 = 7\n",
    "        # 7 % 10 = 0\n",
    "        rev = (rev * 10) + last_digit\n",
    "        # (0 * 10) + 9 = 9\n",
    "        # (9 * 10) + 8 = 98\n",
    "        # (98 * 10) + 7 = 987\n",
    "        # (987 * 10) + 7 = 9877\n",
    "        N = N // 10\n",
    "    \n",
    "    return rev\n",
    "print(reverse(7789))\n",
    "print(reverse(345))"
   ]
  },
  {
   "cell_type": "markdown",
   "id": "7bbc4a01",
   "metadata": {},
   "source": [
    "# 3. Palindrome of A Number"
   ]
  },
  {
   "cell_type": "code",
   "execution_count": null,
   "id": "93bd98d6",
   "metadata": {},
   "outputs": [
    {
     "name": "stdout",
     "output_type": "stream",
     "text": [
      "Palindrome Number\n",
      "Not a Palindrome Number\n"
     ]
    }
   ],
   "source": [
    "def palindrome(N):\n",
    "    rev = 0\n",
    "    temp = N # Copy the original number N in temp to preserve it\n",
    "    while N > 0:\n",
    "        last_digit = N % 10\n",
    "        rev = (rev*10) + last_digit\n",
    "        N = N // 10\n",
    "   \n",
    "    if rev == temp:\n",
    "        print(\"Palindrome Number\")\n",
    "    else:\n",
    "        print(\"Not a Palindrome Number\")\n",
    "\n",
    "palindrome(1221)\n",
    "palindrome(567)"
   ]
  },
  {
   "cell_type": "markdown",
   "id": "ebd88396",
   "metadata": {},
   "source": [
    "# 4. Armstrong Number"
   ]
  },
  {
   "cell_type": "code",
   "execution_count": 12,
   "id": "c4358ba3",
   "metadata": {},
   "outputs": [
    {
     "name": "stdout",
     "output_type": "stream",
     "text": [
      "Armstrong Number\n",
      "Not an Armstrong Number\n"
     ]
    }
   ],
   "source": [
    "def armstrong(N):\n",
    "    sum = 0\n",
    "    count = 0\n",
    "    temp = N # Copy the original number N in temp to preserve it\n",
    "\n",
    "    # First while loop: To get the count of number of digits\n",
    "    while temp > 0:\n",
    "        count = count + 1\n",
    "        temp = temp // 10\n",
    "\n",
    "    # Reset the  temp to original number N. Because by the end of 1st while loop temp becomes 0 - as we divide it repeatedly by 10\n",
    "    temp = N \n",
    "\n",
    "    # Second while loop: To check Armstrong Number\n",
    "    while temp > 0:\n",
    "        last_digit = temp % 10\n",
    "        # Armstrong number is a number eaual to Summation of its own digits raise to power of number of digits\n",
    "        sum = sum + (last_digit ** count)\n",
    "        temp = temp // 10\n",
    "\n",
    "    if sum == N:\n",
    "        print(\"Armstrong Number\")\n",
    "    else:\n",
    "        print(\"Not an Armstrong Number\")\n",
    "\n",
    "armstrong(153)\n",
    "armstrong(121)\n"
   ]
  },
  {
   "cell_type": "markdown",
   "id": "5ea26cc4",
   "metadata": {},
   "source": [
    "# 5. Print all Divisors of Number\n",
    "\n",
    "- 36 divsiors: 1,2,3,4,6,9,12,18,36"
   ]
  },
  {
   "cell_type": "code",
   "execution_count": 13,
   "id": "6790ba37",
   "metadata": {},
   "outputs": [
    {
     "name": "stdout",
     "output_type": "stream",
     "text": [
      "1,2,3,4,6,9,12,18,36,"
     ]
    }
   ],
   "source": [
    "def divisors(N):\n",
    "    for i in range(1, N+1):\n",
    "        if N % i == 0:\n",
    "            print(i, end=',')\n",
    "divisors(36)"
   ]
  },
  {
   "cell_type": "markdown",
   "id": "081bf136",
   "metadata": {},
   "source": [
    "- Another approach to print Divisors of 36\n",
    "- So the divsiors we get below are all covered in the first half\n",
    "\n",
    "1 * 36 <br>\n",
    "2 * 18 <br>\n",
    "3 * 12 <br>\n",
    "4 * 9  <br>\n",
    "-- --\n",
    "6 * 6  <br> So we can write this as square root of N-> sqrt(6)\n",
    "-- --\n",
    "9 * 4  <br>\n",
    "12 * 3 <br>\n",
    "18 * 2 <br>\n",
    "36 * 1 <br>\n"
   ]
  },
  {
   "cell_type": "code",
   "execution_count": 25,
   "id": "c0a7d01a",
   "metadata": {},
   "outputs": [
    {
     "name": "stdout",
     "output_type": "stream",
     "text": [
      "[1, 2, 3, 4, 9, 12, 18, 36]\n"
     ]
    }
   ],
   "source": [
    "import math\n",
    "def divisors(N):\n",
    "    mylist = []\n",
    "    for i in range(1, int(math.sqrt(N+1))):\n",
    "        if N % i == 0:\n",
    "            mylist.append(i)\n",
    "            num = N//i\n",
    "            if num != i:\n",
    "                mylist.append(num)\n",
    "\n",
    "    mylist.sort()\n",
    "    print(mylist)\n",
    "\n",
    "divisors(36)"
   ]
  },
  {
   "cell_type": "code",
   "execution_count": 27,
   "id": "4d0ed4ed",
   "metadata": {},
   "outputs": [
    {
     "name": "stdout",
     "output_type": "stream",
     "text": [
      "[1, 2, 3, 4, 6, 9, 12, 18, 36]\n"
     ]
    }
   ],
   "source": [
    "# Instead of using math.sqrt function we can write like this below i*i > N\n",
    "\n",
    "def divisors(N):\n",
    "    mylist = []\n",
    "    for i in range(1, N + 1):\n",
    "        if i * i > N: # So when i=7 it will break the loop\n",
    "            break\n",
    "        if N % i == 0:\n",
    "            mylist.append(i) # 1,2,3,4,6\n",
    "            if i != N // i:\n",
    "                mylist.append(N // i) # 36,18,12,9\n",
    "    \n",
    "    # print(mylist) # [1,36,2,18,3,12,4,9,6]\n",
    "                \n",
    "    mylist.sort()\n",
    "    print(mylist)\n",
    "\n",
    "divisors(36)\n"
   ]
  },
  {
   "cell_type": "markdown",
   "id": "8b131cb9",
   "metadata": {},
   "source": [
    "# 6. Prime Number"
   ]
  },
  {
   "cell_type": "code",
   "execution_count": null,
   "id": "0840413f",
   "metadata": {},
   "outputs": [
    {
     "name": "stdout",
     "output_type": "stream",
     "text": [
      "Prime Number\n",
      "Not Prime\n"
     ]
    }
   ],
   "source": [
    "def prime(N):\n",
    "    count = 0\n",
    "    for i in range(1, N+1): \n",
    "        if i*i > N: \n",
    "            break\n",
    "        if N % i == 0:\n",
    "            count = count + 1\n",
    "            if (N//i) != i:\n",
    "                count += 1\n",
    "    if count == 2:\n",
    "        print(\"Prime Number\")\n",
    "    else:\n",
    "        print(\"Not Prime\")\n",
    "prime(2)\n",
    "prime(4)"
   ]
  },
  {
   "cell_type": "markdown",
   "id": "85c8c7ef",
   "metadata": {},
   "source": [
    "\n",
    "#### Steps To check if 2 is prime.\n",
    "\n",
    "- Initial state:\n",
    "    N = 2\n",
    "\n",
    "    count = 0\n",
    "\n",
    "    Loop runs: i from 1 to N (i.e., 1 to 2)\n",
    "    But breaks if i * i > N\n",
    "\n",
    "- Step 1: i = 1\n",
    "    1 * 1 = 1 → not greater than 2 → continue\n",
    "\n",
    "    2 % 1 == 0  → divisor found\n",
    "\n",
    "    count += 1 → count = 1\n",
    "\n",
    "    2 // 1 = 2, 2 != 1 → count += 1 → count = 2\n",
    "\n",
    "- Step 2: i = 2\n",
    "    2 * 2 = 4 → 4 > 2 → break loop \n",
    "\n",
    "    Final count = 2 → Prime\n",
    "    Output: Yes\n",
    "\n"
   ]
  }
 ],
 "metadata": {
  "kernelspec": {
   "display_name": "Python 3",
   "language": "python",
   "name": "python3"
  },
  "language_info": {
   "codemirror_mode": {
    "name": "ipython",
    "version": 3
   },
   "file_extension": ".py",
   "mimetype": "text/x-python",
   "name": "python",
   "nbconvert_exporter": "python",
   "pygments_lexer": "ipython3",
   "version": "3.12.6"
  }
 },
 "nbformat": 4,
 "nbformat_minor": 5
}

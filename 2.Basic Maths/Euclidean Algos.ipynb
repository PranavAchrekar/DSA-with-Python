{
 "cells": [
  {
   "cell_type": "markdown",
   "id": "8608efdf",
   "metadata": {},
   "source": [
    "# 1. Count Number of Digits"
   ]
  },
  {
   "cell_type": "code",
   "execution_count": null,
   "id": "7e894bed",
   "metadata": {},
   "outputs": [
    {
     "data": {
      "text/plain": [
       "[9, 8, 7, 7]"
      ]
     },
     "execution_count": 2,
     "metadata": {},
     "output_type": "execute_result"
    }
   ],
   "source": [
    "# Extraction of digits\n",
    "\n",
    "def count(N):\n",
    "    digits = []\n",
    "    while N > 0:\n",
    "        last_digit = N % 10\n",
    "        # 7789 % 10 = 9\n",
    "        # 778 % 10 = 8\n",
    "        # 77 % 10 = 7\n",
    "        # 7 % 10 = 0\n",
    "        if last_digit == 0:\n",
    "            break\n",
    "        digits.append(int(last_digit))\n",
    "        \n",
    "        N = N // 10 # Use integer division\n",
    "    return digits\n",
    "\n",
    "count(7789)"
   ]
  },
  {
   "cell_type": "code",
   "execution_count": null,
   "id": "2339bd80",
   "metadata": {},
   "outputs": [
    {
     "data": {
      "text/plain": [
       "4"
      ]
     },
     "execution_count": 3,
     "metadata": {},
     "output_type": "execute_result"
    }
   ],
   "source": [
    "# To get the count of digits for a number\n",
    "def count(N):\n",
    "    cnt = 0\n",
    "    while N > 0:\n",
    "        # last_digit = N % 10\n",
    "        cnt = cnt + 1\n",
    "        N=N // 10\n",
    "    return cnt\n",
    "count(7789)"
   ]
  },
  {
   "cell_type": "code",
   "execution_count": null,
   "id": "42a4da64",
   "metadata": {},
   "outputs": [
    {
     "data": {
      "text/plain": [
       "4"
      ]
     },
     "execution_count": 6,
     "metadata": {},
     "output_type": "execute_result"
    }
   ],
   "source": [
    "# Using log function to get count of digits for a number\n",
    "import math\n",
    "def count(N):\n",
    "    cnt = math.log10(N) + 1\n",
    "    return int(cnt) \n",
    "count(7789)"
   ]
  },
  {
   "cell_type": "markdown",
   "id": "03f6562f",
   "metadata": {},
   "source": [
    "# 2. Reverse Number"
   ]
  },
  {
   "cell_type": "code",
   "execution_count": 8,
   "id": "4809d381",
   "metadata": {},
   "outputs": [
    {
     "name": "stdout",
     "output_type": "stream",
     "text": [
      "9877\n",
      "543\n"
     ]
    }
   ],
   "source": [
    "def reverse(N):\n",
    "    rev = 0\n",
    "    while N > 0:\n",
    "        last_digit = N % 10\n",
    "        rev = (rev * 10) + last_digit\n",
    "        N = N // 10\n",
    "    \n",
    "    return rev\n",
    "print(reverse(7789))\n",
    "print(reverse(345))"
   ]
  },
  {
   "cell_type": "markdown",
   "id": "7bbc4a01",
   "metadata": {},
   "source": [
    "# 3. Palindrome of A Number"
   ]
  },
  {
   "cell_type": "code",
   "execution_count": null,
   "id": "93bd98d6",
   "metadata": {},
   "outputs": [
    {
     "name": "stdout",
     "output_type": "stream",
     "text": [
      "Palindrome Number\n",
      "Not a Palindrome Number\n"
     ]
    }
   ],
   "source": [
    "def palindrome(N):\n",
    "    rev = 0\n",
    "    temp = N # Copy the original number N in temp to preserve it\n",
    "    while N > 0:\n",
    "        last_digit = N % 10\n",
    "        rev = (rev*10) + last_digit\n",
    "        N = N // 10\n",
    "   \n",
    "    if rev == temp:\n",
    "        print(\"Palindrome Number\")\n",
    "    else:\n",
    "        print(\"Not a Palindrome Number\")\n",
    "\n",
    "palindrome(1221)\n",
    "palindrome(567)"
   ]
  },
  {
   "cell_type": "markdown",
   "id": "ebd88396",
   "metadata": {},
   "source": [
    "# 4. Armstrong Number"
   ]
  },
  {
   "cell_type": "code",
   "execution_count": 12,
   "id": "c4358ba3",
   "metadata": {},
   "outputs": [
    {
     "name": "stdout",
     "output_type": "stream",
     "text": [
      "Armstrong Number\n",
      "Not an Armstrong Number\n"
     ]
    }
   ],
   "source": [
    "def armstrong(N):\n",
    "    sum = 0\n",
    "    count = 0\n",
    "    temp = N # Copy the original number N in temp to preserve it\n",
    "\n",
    "    # First while loop: To get the count of number of digits\n",
    "    while temp > 0:\n",
    "        count = count + 1\n",
    "        temp = temp // 10\n",
    "\n",
    "    # Reset the  temp to original number N. Because by the end of 1st while loop temp becomes 0 - as we divide it repeatedly by 10\n",
    "    temp = N \n",
    "\n",
    "    # Second while loop: To check Armstrong Number\n",
    "    while temp > 0:\n",
    "        last_digit = temp % 10\n",
    "        # Armstrong number is a number eaual to Summation of its own digits raise to power of number of digits\n",
    "        sum = sum + (last_digit ** count)\n",
    "        temp = temp // 10\n",
    "\n",
    "    if sum == N:\n",
    "        print(\"Armstrong Number\")\n",
    "    else:\n",
    "        print(\"Not an Armstrong Number\")\n",
    "\n",
    "armstrong(153)\n",
    "armstrong(121)\n"
   ]
  }
 ],
 "metadata": {
  "kernelspec": {
   "display_name": "Python 3",
   "language": "python",
   "name": "python3"
  },
  "language_info": {
   "codemirror_mode": {
    "name": "ipython",
    "version": 3
   },
   "file_extension": ".py",
   "mimetype": "text/x-python",
   "name": "python",
   "nbconvert_exporter": "python",
   "pygments_lexer": "ipython3",
   "version": "3.12.6"
  }
 },
 "nbformat": 4,
 "nbformat_minor": 5
}
